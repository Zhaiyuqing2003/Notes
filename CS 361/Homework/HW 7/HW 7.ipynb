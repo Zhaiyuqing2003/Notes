{
 "cells": [
  {
   "cell_type": "code",
   "execution_count": 18,
   "metadata": {},
   "outputs": [],
   "source": [
    "from ucimlrepo import fetch_ucirepo\n",
    "import numpy as np\n",
    "\n",
    "# plot histogram\n",
    "import matplotlib.pyplot as plt\n",
    "\n",
    "# fetch dataset\n",
    "abalone = fetch_ucirepo(id=1)\n",
    "\n",
    "# data (as pandas dataframes)\n",
    "X = abalone.data.features\n",
    "y = abalone.data.targets\n",
    "# # metadata\n",
    "# print(abalone.metadata)\n",
    "# # variable information\n",
    "# print(abalone.variables)\n",
    "\n",
    "# get Length column\n",
    "Length = X[\"Length\"]"
   ]
  },
  {
   "cell_type": "code",
   "execution_count": 21,
   "metadata": {},
   "outputs": [
    {
     "data": {
      "image/png": "[encoded data removed]",
      "text/plain": [
       "<Figure size 640x480 with 1 Axes>"
      ]
     },
     "metadata": {},
     "output_type": "display_data"
    },
    {
     "data": {
      "image/png": "[encoded data removed]",
      "text/plain": [
       "<Figure size 640x480 with 1 Axes>"
      ]
     },
     "metadata": {},
     "output_type": "display_data"
    },
    {
     "name": "stdout",
     "output_type": "stream",
     "text": [
      "0.888\n",
      "0.545\n",
      "0.01608815344329239\n"
     ]
    }
   ],
   "source": [
    "median = np.median(Length)\n",
    "\n",
    "inside_90_count = 0\n",
    "bs_median_means = np.zeros(2000)\n",
    "bs_average_std_error = np.zeros(2000)\n",
    "\n",
    "sample_size = 100\n",
    "\n",
    "for i in range(2000):\n",
    "    sample = np.random.choice(Length, size=sample_size, replace=False)\n",
    "\n",
    "    # 3000 bootstrap replicates\n",
    "    bs_replica = np.random.choice(sample, size=(3000, sample_size), replace=True)\n",
    "\n",
    "    # calculate median of each bootstrap replicate\n",
    "    bs_median = np.median(bs_replica, axis=1)\n",
    "\n",
    "    # mean of bs_median\n",
    "    bs_median_mean = np.mean(bs_median)\n",
    "    bs_median_means[i] = bs_median_mean\n",
    "\n",
    "    # std error of bs_median\n",
    "    bs_median_std_error = np.std(bs_median, ddof=1)\n",
    "    bs_average_std_error[i] = bs_median_std_error\n",
    "\n",
    "    # calculate the 90% confidence interval\n",
    "    bs_median_low, bs_median_high = bs_median_mean - 1.64485 * bs_median_std_error, bs_median_mean + 1.64485 * bs_median_std_error\n",
    "\n",
    "    if bs_median_low <= median <= bs_median_high:\n",
    "        inside_90_count += 1\n",
    "\n",
    "    if i == 0:\n",
    "        # plot the histogram of bs_median\n",
    "        plt.hist(bs_median, bins=30)\n",
    "        plt.show()\n",
    "\n",
    "\n",
    "plt.hist(bs_median_means, bins=30)\n",
    "plt.show()\n",
    "\n",
    "print(inside_90_count / 2000)\n",
    "print(median)\n",
    "print(bs_average_std_error.mean())"
   ]
  },
  {
   "cell_type": "code",
   "execution_count": 11,
   "metadata": {},
   "outputs": [],
   "source": [
    "from ucimlrepo import fetch_ucirepo\n",
    "\n",
    "# fetch dataset \n",
    "adult = fetch_ucirepo(id=2)\n",
    "\n",
    "# data (as pandas dataframes)\n",
    "X = adult.data.features\n",
    "y = adult.data.targets\n",
    "\n",
    "income = y[\"income\"]\n",
    "sex = X[\"sex\"]\n",
    "education = X[\"education\"]\n",
    "income = income.str.replace('\\.$', '', regex=True)\n"
   ]
  },
  {
   "cell_type": "code",
   "execution_count": 14,
   "metadata": {},
   "outputs": [
    {
     "name": "stdout",
     "output_type": "stream",
     "text": [
      "Contingency Table:\n",
      "income        <=50K  >50K\n",
      "education                \n",
      "10th           1302    87\n",
      "11th           1720    92\n",
      "12th            609    48\n",
      "1st-4th         239     8\n",
      "5th-6th         482    27\n",
      "7th-8th         893    62\n",
      "9th             715    41\n",
      "Assoc-acdm     1188   413\n",
      "Assoc-voc      1539   522\n",
      "Bachelors      4712  3313\n",
      "Doctorate       163   431\n",
      "HS-grad       13281  2503\n",
      "Masters        1198  1459\n",
      "Preschool        82     1\n",
      "Prof-school     217   617\n",
      "Some-college   8815  2063\n",
      "Chi-square Statistic: 6537.972961360963\n",
      "P-value: 0.0\n",
      "Degrees of Freedom: 15\n"
     ]
    }
   ],
   "source": [
    "# use chi-square test to test the independence of income with respect to gender\n",
    "\n",
    "import pandas as pd\n",
    "from scipy.stats import chi2_contingency\n",
    "\n",
    "# Assuming 'income' and 'education' are pandas Series objects\n",
    "\n",
    "# Create a contingency table\n",
    "contingency_table = pd.crosstab(education, income)\n",
    "\n",
    "# Apply the Chi-square test\n",
    "chi2, p, dof, expected = chi2_contingency(contingency_table)\n",
    "\n",
    "print(\"Contingency Table:\")\n",
    "print(contingency_table)\n",
    "print(f\"Chi-square Statistic: {chi2}\")\n",
    "print(f\"P-value: {p}\")\n",
    "print(f\"Degrees of Freedom: {dof}\")"
   ]
  },
  {
   "cell_type": "code",
   "execution_count": 15,
   "metadata": {},
   "outputs": [
    {
     "name": "stdout",
     "output_type": "stream",
     "text": [
      "Contingency Table:\n",
      "income  <=50K  >50K\n",
      "sex                \n",
      "Female  14423  1769\n",
      "Male    22732  9918\n",
      "Chi-square Statistic: 2248.847679013691\n",
      "P-value: 0.0\n",
      "Degrees of Freedom: 1\n"
     ]
    }
   ],
   "source": [
    "# Create a contingency table\n",
    "contingency_table = pd.crosstab(sex, income)\n",
    "\n",
    "# Apply the Chi-square test\n",
    "chi2, p, dof, expected = chi2_contingency(contingency_table)\n",
    "\n",
    "print(\"Contingency Table:\")\n",
    "print(contingency_table)\n",
    "print(f\"Chi-square Statistic: {chi2}\")\n",
    "print(f\"P-value: {p}\")\n",
    "print(f\"Degrees of Freedom: {dof}\")"
   ]
  },
  {
   "cell_type": "code",
   "execution_count": null,
   "metadata": {},
   "outputs": [],
   "source": []
  }
 ],
 "metadata": {
  "kernelspec": {
   "display_name": "Python 3",
   "language": "python",
   "name": "python3"
  },
  "language_info": {
   "codemirror_mode": {
    "name": "ipython",
    "version": 3
   },
   "file_extension": ".py",
   "mimetype": "text/x-python",
   "name": "python",
   "nbconvert_exporter": "python",
   "pygments_lexer": "ipython3",
   "version": "3.10.11"
  }
 },
 "nbformat": 4,
 "nbformat_minor": 2
}
