{
 "cells": [
  {
   "cell_type": "code",
   "execution_count": null,
   "metadata": {},
   "outputs": [],
   "source": [
    "from ucimlrepo import fetch_ucirepo\n",
    "\n",
    "# fetch dataset\n",
    "mushroom = fetch_ucirepo(id=73)\n",
    "\n",
    "# data (as pandas dataframes)\n",
    "X = mushroom.data.features\n",
    "y = mushroom.data.targets"
   ]
  },
  {
   "cell_type": "code",
   "execution_count": null,
   "metadata": {},
   "outputs": [],
   "source": [
    "import pandas as pd\n",
    "from sklearn.model_selection import train_test_split\n",
    "from sklearn.ensemble import RandomForestClassifier\n",
    "from sklearn.metrics import confusion_matrix\n",
    "from sklearn.preprocessing import LabelEncoder\n",
    "import seaborn as sns\n",
    "import matplotlib.pyplot as plt\n",
    "import random\n",
    "\n",
    "# Example data loading\n",
    "# X, y = pd.read_csv('your_dataset.csv').drop('target', axis=1), pd.read_csv('your_dataset.csv')['target']\n",
    "\n",
    "# Identify categorical columns\n",
    "categorical_columns = X.select_dtypes(include=['object']).columns\n",
    "\n",
    "# Convert categorical columns to numeric using LabelEncoder\n",
    "# label_encoders = {}\n",
    "for col in categorical_columns:\n",
    "    le = LabelEncoder()\n",
    "    X.loc[:, col] = le.fit_transform(X[col])\n",
    "    # label_encoders[col] = le\n"
   ]
  },
  {
   "cell_type": "code",
   "execution_count": null,
   "metadata": {},
   "outputs": [],
   "source": [
    "# Train/Test Split\n",
    "X_train, X_test, y_train, y_test = train_test_split(X, y, random_state = random.randint(0, 100), train_size=0.8, test_size=0.2)\n",
    "\n",
    "y_train = y_train.squeeze()\n",
    "y_test = y_test.squeeze()\n",
    "\n",
    "# Train the RandomForestClassifier\n",
    "clf = RandomForestClassifier(n_estimators=100, random_state=random.randint(0, 100), max_depth=50)\n",
    "clf.fit(X_train, y_train)\n",
    "\n",
    "# Predict the classes for the test set\n",
    "y_pred = clf.predict(X_test)\n",
    "\n",
    "# Generate the confusion matrix\n",
    "cm = confusion_matrix(y_test, y_pred)\n",
    "\n",
    "# Plotting the confusion matrix\n",
    "sns.heatmap(cm, annot=True, fmt='g')\n",
    "plt.xlabel('Predicted labels')\n",
    "plt.ylabel('True labels')\n",
    "plt.title('Confusion Matrix')\n",
    "plt.show()"
   ]
  },
  {
   "cell_type": "markdown",
   "metadata": {},
   "source": []
  },
  {
   "cell_type": "code",
   "execution_count": null,
   "metadata": {},
   "outputs": [],
   "source": [
    "from ucimlrepo import fetch_ucirepo\n",
    "\n",
    "# fetch dataset \n",
    "eeg_eye_state = fetch_ucirepo(id=264)\n",
    "\n",
    "# data (as pandas dataframes)\n",
    "X = eeg_eye_state.data.features\n",
    "y = eeg_eye_state.data.targets"
   ]
  },
  {
   "cell_type": "code",
   "execution_count": null,
   "metadata": {},
   "outputs": [],
   "source": [
    "from sklearn.model_selection import cross_val_score\n",
    "from sklearn.tree import DecisionTreeClassifier\n",
    "from sklearn.ensemble import RandomForestClassifier\n",
    "from sklearn.neighbors import KNeighborsClassifier\n",
    "from sklearn.naive_bayes import GaussianNB\n",
    "import sklearn.metrics as metrics\n",
    "import sklearn.model_selection as ms\n",
    "\n",
    "accuracy = metrics.make_scorer(metrics.accuracy_score)\n",
    "\n",
    "y_flat = y.squeeze()\n",
    "\n",
    "clf_score = cross_val_score(\n",
    "    DecisionTreeClassifier(random_state=random.randint(0, 100), max_depth=50),\n",
    "    X, y_flat, cv=ms.KFold(shuffle=True), scoring=accuracy\n",
    ")\n",
    "rf_clf_score = cross_val_score(\n",
    "    RandomForestClassifier(random_state=random.randint(0, 100), n_estimators=100, max_depth=50),\n",
    "    X, y_flat, cv=ms.KFold(shuffle=True), scoring=accuracy\n",
    ")\n",
    "knn_score = cross_val_score(\n",
    "    KNeighborsClassifier(n_neighbors=5),\n",
    "    X, y_flat, cv=ms.KFold(shuffle=True), scoring=accuracy\n",
    ")\n",
    "gnb_score = cross_val_score(\n",
    "    GaussianNB(),\n",
    "    X, y_flat, cv=ms.KFold(shuffle=True), scoring=accuracy\n",
    ")\n",
    "\n",
    "print(f\"Decision Tree Classifier: {clf_score.mean()}\")\n",
    "print(f\"Random Forest Classifier: {rf_clf_score.mean()}\")\n",
    "print(f\"K Nearest Neighbors Classifier: {knn_score.mean()}\")\n",
    "print(f\"Gaussian Naive Bayes Classifier: {gnb_score.mean()}\")"
   ]
  },
  {
   "cell_type": "code",
   "execution_count": null,
   "metadata": {},
   "outputs": [],
   "source": [
    "from sklearn.tree import DecisionTreeClassifier  # For classification tasks\n",
    "\n",
    "X_train, X_test, y_train, y_test = train_test_split(X, y, random_state=random.randint(0, 100), train_size=0.8, test_size=0.2)\n",
    "\n",
    "y_train = y_train.squeeze()\n",
    "y_test = y_test.squeeze()\n",
    "\n",
    "clf = DecisionTreeClassifier(random_state=random.randint(0, 100), max_depth=50)\n",
    "clf.fit(X_train, y_train)\n",
    "\n",
    "y_pred = clf.predict(X_test)\n",
    "\n",
    "cm = confusion_matrix(y_test, y_pred)\n",
    "\n",
    "sns.heatmap(cm, annot=True, fmt='g')\n"
   ]
  },
  {
   "cell_type": "code",
   "execution_count": null,
   "metadata": {},
   "outputs": [],
   "source": [
    "# do the thing for random forest\n",
    "from sklearn.ensemble import RandomForestClassifier\n",
    "\n",
    "rf_clf = RandomForestClassifier(n_estimators=100, random_state=random.randint(0, 100), max_depth=50)\n",
    "\n",
    "rf_clf.fit(X_train, y_train)\n",
    "\n",
    "y_pred = rf_clf.predict(X_test)\n",
    "\n",
    "cm = confusion_matrix(y_test, y_pred)\n",
    "\n",
    "sns.heatmap(cm, annot=True, fmt='g')"
   ]
  },
  {
   "cell_type": "code",
   "execution_count": null,
   "metadata": {},
   "outputs": [],
   "source": [
    "from sklearn.neighbors import KNeighborsClassifier\n",
    "from sklearn.model_selection import train_test_split\n",
    "\n",
    "knn = KNeighborsClassifier(n_neighbors=5)\n",
    "knn.fit(X_train, y_train)\n",
    "\n",
    "y_pred = knn.predict(X_test)\n",
    "\n",
    "cm = confusion_matrix(y_test, y_pred)\n",
    "\n",
    "sns.heatmap(cm, annot=True, fmt='g')"
   ]
  },
  {
   "cell_type": "code",
   "execution_count": null,
   "metadata": {},
   "outputs": [],
   "source": [
    "from sklearn.naive_bayes import GaussianNB\n",
    "\n",
    "\n",
    "# Create Gaussian Naive Bayes classifier\n",
    "gnb = GaussianNB()\n",
    "gnb.fit(X_train, y_train)\n",
    "\n",
    "# Predict and evaluate\n",
    "y_pred = gnb.predict(X_test)\n",
    "\n",
    "cm = confusion_matrix(y_test, y_pred)\n",
    "\n",
    "sns.heatmap(cm, annot=True, fmt='g')\n"
   ]
  },
  {
   "cell_type": "code",
   "execution_count": null,
   "metadata": {},
   "outputs": [],
   "source": [
    "# read haberman.data\n",
    "\n",
    "haberman = pd.read_csv('haberman.data', header=None)\n",
    "\n",
    "X = haberman.drop(3, axis=1)\n",
    "y = haberman[3]"
   ]
  },
  {
   "cell_type": "code",
   "execution_count": null,
   "metadata": {},
   "outputs": [],
   "source": [
    "# do decision tree\n",
    "X_train, X_test, y_train, y_test = train_test_split(X, y, random_state=random.randint(0, 100), train_size=0.8, test_size=0.2)\n",
    "\n",
    "y_train = y_train.squeeze()\n",
    "y_test = y_test.squeeze()\n",
    "\n",
    "clf = DecisionTreeClassifier(random_state=random.randint(0, 100), max_depth=50)\n",
    "clf.fit(X_train, y_train)\n",
    "\n",
    "y_pred = clf.predict(X_test)\n",
    "\n",
    "cm = confusion_matrix(y_test, y_pred)\n",
    "\n",
    "sns.heatmap(cm, annot=True, fmt='g')"
   ]
  },
  {
   "cell_type": "code",
   "execution_count": null,
   "metadata": {},
   "outputs": [],
   "source": [
    "# do random forest\n",
    "\n",
    "clf = RandomForestClassifier(n_estimators=100, random_state=random.randint(0, 100), max_depth=50)\n",
    "\n",
    "clf.fit(X_train, y_train)\n",
    "\n",
    "y_pred = clf.predict(X_test)\n",
    "\n",
    "cm = confusion_matrix(y_test, y_pred)\n",
    "\n",
    "sns.heatmap(cm, annot=True, fmt='g')"
   ]
  },
  {
   "cell_type": "code",
   "execution_count": null,
   "metadata": {},
   "outputs": [],
   "source": [
    "X = [[0, 0, 0], [1, 1, 1], [0, 0, 0], [1, 1, 0], [0, 0, 0], [1, 1, 1], [0, 0, 0], [1, 1, 1], [0, 0, 0], [1, 1, 1]]\n",
    "y = [0, 1, 0, 1, 0, 1, 0, 1, 0, 1]\n",
    "\n",
    "score = cross_val_score(\n",
    "    DecisionTreeClassifier(random_state=random.randint(0, 100), max_depth=50),\n",
    "    X, y, cv=5, scoring='accuracy'\n",
    ")\n",
    "\n",
    "X_train, X_test, y_train, y_test = train_test_split(X, y, random_state=random.randint(0, 100), train_size=0.8, test_size=0.2)\n",
    "\n",
    "clf = DecisionTreeClassifier(random_state=random.randint(0, 100), max_depth=50)\n",
    "clf.fit(X_train, y_train)\n",
    "\n",
    "y_pred = clf.predict(X_test)\n",
    "\n",
    "cm = confusion_matrix(y_test, y_pred)\n",
    "\n",
    "sns.heatmap(cm, annot=True, fmt='g')\n",
    "\n",
    "print(score.mean())"
   ]
  }
 ],
 "metadata": {
  "kernelspec": {
   "display_name": "Python 3",
   "language": "python",
   "name": "python3"
  },
  "language_info": {
   "codemirror_mode": {
    "name": "ipython",
    "version": 3
   },
   "file_extension": ".py",
   "mimetype": "text/x-python",
   "name": "python",
   "nbconvert_exporter": "python",
   "pygments_lexer": "ipython3",
   "version": "3.10.11"
  }
 },
 "nbformat": 4,
 "nbformat_minor": 2
}
